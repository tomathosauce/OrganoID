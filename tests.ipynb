{
 "cells": [
  {
   "cell_type": "markdown",
   "metadata": {},
   "source": [
    "# ValueError: image has wrong mode"
   ]
  },
  {
   "cell_type": "code",
   "execution_count": 15,
   "metadata": {},
   "outputs": [
    {
     "name": "stdout",
     "output_type": "stream",
     "text": [
      "32.png: RGBA\n",
      "33.png: RGBA\n",
      "46.png: I;16\n",
      "47.png: I;16\n",
      "48.png: I;16\n",
      "50.png: I;16\n",
      "52.png: I;16\n",
      "55.png: I;16\n"
     ]
    }
   ],
   "source": [
    "import os\n",
    "from PIL import Image, ImageFilter\n",
    "\n",
    "def print_image_modes(directory):\n",
    "    # List all files in the given directory\n",
    "    files = os.listdir(directory)\n",
    "    \n",
    "    # Filter out non-image files (optional)\n",
    "    image_files = [file for file in files if file.lower().endswith(('png', 'jpg', 'jpeg', 'bmp', 'gif', 'tiff'))]\n",
    "    \n",
    "    # Loop through each image file\n",
    "    for image_file in image_files:\n",
    "        # Construct full file path\n",
    "        file_path = os.path.join(directory, image_file)\n",
    "        \n",
    "        try:\n",
    "            # Open image\n",
    "            with Image.open(file_path) as img:\n",
    "                # Print the file name and its mode\n",
    "                print(f\"{image_file}: {img.mode}\")\n",
    "                x,y = (512,512)\n",
    "                # img.mode = 'I'\n",
    "                img = img.point(lambda i:i*(1./256)).convert('L').filter(ImageFilter.BLUR)\n",
    "                img.resize((x, y), resample=Image.BICUBIC)\n",
    "        except IOError:\n",
    "            print(f\"Cannot open {image_file}\")\n",
    "        except ValueError:\n",
    "            print(f\"Value error with {image_file}\")\n",
    "\n",
    "# Example usage\n",
    "print_image_modes(r'C:\\Users\\chisa\\Documents\\GitHub\\OrganoID_IIT\\SURE\\datasets\\handpicked\\0\\pre_augmented\\original')"
   ]
  },
  {
   "cell_type": "code",
   "execution_count": 1,
   "metadata": {},
   "outputs": [
    {
     "name": "stdout",
     "output_type": "stream",
     "text": [
      "Num GPUs Available:  1\n"
     ]
    }
   ],
   "source": [
    "import tensorflow as tf\n",
    "\n",
    "print(\"Num GPUs Available: \", len(tf.config.experimental.list_physical_devices('GPU')))"
   ]
  }
 ],
 "metadata": {
  "kernelspec": {
   "display_name": "OrganoID",
   "language": "python",
   "name": "python3"
  },
  "language_info": {
   "codemirror_mode": {
    "name": "ipython",
    "version": 3
   },
   "file_extension": ".py",
   "mimetype": "text/x-python",
   "name": "python",
   "nbconvert_exporter": "python",
   "pygments_lexer": "ipython3",
   "version": "3.10.12"
  }
 },
 "nbformat": 4,
 "nbformat_minor": 2
}

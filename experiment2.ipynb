{
 "cells": [
  {
   "cell_type": "code",
   "execution_count": 1,
   "metadata": {},
   "outputs": [
    {
     "name": "stdout",
     "output_type": "stream",
     "text": [
      "Processing 1.png: Original mode: L\n",
      "Converted mode: RGB\n",
      "Converted image saved to: SURE/datasets/handpicked/2/pre_augmented/images\\1.png\n",
      "Processing 32.png: Original mode: RGBA\n",
      "Converted mode: RGB\n",
      "Converted image saved to: SURE/datasets/handpicked/2/pre_augmented/images\\32.png\n",
      "Processing 33.png: Original mode: RGBA\n",
      "Converted mode: RGB\n",
      "Converted image saved to: SURE/datasets/handpicked/2/pre_augmented/images\\33.png\n",
      "Processing 46.png: Original mode: I\n",
      "Converted mode: RGB\n",
      "Converted image saved to: SURE/datasets/handpicked/2/pre_augmented/images\\46.png\n",
      "Processing 47.png: Original mode: I\n",
      "Converted mode: RGB\n",
      "Converted image saved to: SURE/datasets/handpicked/2/pre_augmented/images\\47.png\n",
      "Processing 48.png: Original mode: I\n",
      "Converted mode: RGB\n",
      "Converted image saved to: SURE/datasets/handpicked/2/pre_augmented/images\\48.png\n",
      "Processing 50.png: Original mode: I\n",
      "Converted mode: RGB\n",
      "Converted image saved to: SURE/datasets/handpicked/2/pre_augmented/images\\50.png\n",
      "Processing 52.png: Original mode: I\n",
      "Converted mode: RGB\n",
      "Converted image saved to: SURE/datasets/handpicked/2/pre_augmented/images\\52.png\n",
      "Processing 55.png: Original mode: I\n",
      "Converted mode: RGB\n",
      "Converted image saved to: SURE/datasets/handpicked/2/pre_augmented/images\\55.png\n",
      "Processing 6.png: Original mode: L\n",
      "Converted mode: RGB\n",
      "Converted image saved to: SURE/datasets/handpicked/2/pre_augmented/images\\6.png\n",
      "Processing 7.png: Original mode: L\n",
      "Converted mode: RGB\n",
      "Converted image saved to: SURE/datasets/handpicked/2/pre_augmented/images\\7.png\n",
      "Processing 8.png: Original mode: L\n",
      "Converted mode: RGB\n",
      "Converted image saved to: SURE/datasets/handpicked/2/pre_augmented/images\\8.png\n"
     ]
    }
   ],
   "source": [
    "import math\n",
    "\n",
    "from pathlib import Path\n",
    "import shutil\n",
    "from typing import List\n",
    "import numpy as np\n",
    "\n",
    "from SURE.custom.imageModeConversion import convert_images_in_directory\n",
    "\n",
    "handpicked_number = 2\n",
    "\n",
    "convert_images_in_directory(f'SURE/datasets/handpicked/{handpicked_number}/pre_augmented/original', f'SURE/datasets/handpicked/{handpicked_number}/pre_augmented/images', target_mode=\"RGB\")"
   ]
  },
  {
   "cell_type": "code",
   "execution_count": 2,
   "metadata": {},
   "outputs": [],
   "source": [
    "def _CopyToPath(paths: List[Path], output: Path):\n",
    "    output.mkdir(parents=True, exist_ok=True)\n",
    "    for path in paths:\n",
    "        newPath = output / path.name\n",
    "        shutil.copy(path, newPath)\n",
    "\n",
    "def SplitData(imagePaths: List[Path], segmentationPaths: List[Path], validationFraction: float,\n",
    "              testingFraction: float,\n",
    "              outputDirectory: Path,\n",
    "              required_numbers: List[int]):\n",
    "    # Sort paths alphabetically\n",
    "    imagePaths.sort(key=lambda x: x.stem)\n",
    "    segmentationPaths.sort(key=lambda x: x.stem)\n",
    "\n",
    "    # Only use paths that have matched names in image and segmentations directory\n",
    "    imagePaths = np.asarray([path for path in imagePaths if\n",
    "                             path.stem in [segPath.stem for segPath in segmentationPaths]])\n",
    "    segmentationPaths = np.asarray([path for path in segmentationPaths if\n",
    "                                    path.stem in [imagePath.stem for imagePath in imagePaths]])\n",
    "\n",
    "    # Carry out the split!\n",
    "    permutation = np.random.permutation(len(imagePaths))\n",
    "    \n",
    "    for n in required_numbers:\n",
    "        adjusted_number = math.ceil(n/(1-validationFraction-testingFraction))\n",
    "        current_portion = permutation[:adjusted_number]\n",
    "        numValidation = math.ceil(adjusted_number * validationFraction)\n",
    "        \n",
    "        trainingIndices = current_portion[:n]\n",
    "        validationIndices = current_portion[n:(n + numValidation)]\n",
    "        testingIndices = current_portion[(n + numValidation):adjusted_number]\n",
    "\n",
    "        # Save the images\n",
    "        _CopyToPath(imagePaths[trainingIndices], outputDirectory / str(n) / \"training\" / \"images\")\n",
    "        _CopyToPath(imagePaths[validationIndices], outputDirectory / str(n) / \"validation\" / \"images\")\n",
    "        _CopyToPath(imagePaths[testingIndices], outputDirectory / str(n) / \"testing\" / \"images\")\n",
    "        _CopyToPath(segmentationPaths[trainingIndices], outputDirectory / str(n) / \"training\" / \"segmentations\")\n",
    "        _CopyToPath(segmentationPaths[validationIndices],\n",
    "                    outputDirectory / str(n) / \"validation\" / \"segmentations\")\n",
    "        _CopyToPath(segmentationPaths[testingIndices], outputDirectory / str(n) / \"testing\" / \"segmentations\")"
   ]
  },
  {
   "cell_type": "code",
   "execution_count": null,
   "metadata": {},
   "outputs": [],
   "source": [
    "images_dir = Path('Resources/Images')\n",
    "segmentations_dir = Path('Resources/Segmentation')\n",
    "output_dir = Path('Oversampling')\n",
    "\n",
    "count = 1000\n",
    "\n",
    "AugmentImages(imagesDirectory=images_dir, segmentationsDirectory=segmentations_dir, outputDirectory=output_dir, count=count)\n",
    "\n",
    "image_paths = list(images_dir.glob('*.png'))  \n",
    "segmentation_paths = list(segmentations_dir.glob('*.png')) "
   ]
  },
  {
   "cell_type": "code",
   "execution_count": null,
   "metadata": {},
   "outputs": [],
   "source": [
    "SplitData()"
   ]
  }
 ],
 "metadata": {
  "kernelspec": {
   "display_name": "nomi3",
   "language": "python",
   "name": "python3"
  },
  "language_info": {
   "codemirror_mode": {
    "name": "ipython",
    "version": 3
   },
   "file_extension": ".py",
   "mimetype": "text/x-python",
   "name": "python",
   "nbconvert_exporter": "python",
   "pygments_lexer": "ipython3",
   "version": "3.10.12"
  }
 },
 "nbformat": 4,
 "nbformat_minor": 2
}

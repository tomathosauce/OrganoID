{
 "cells": [
  {
   "cell_type": "code",
   "execution_count": 1,
   "metadata": {},
   "outputs": [],
   "source": [
    "import math\n",
    "\n",
    "from pathlib import Path\n",
    "import shutil\n",
    "from typing import List\n",
    "import numpy as np"
   ]
  },
  {
   "cell_type": "code",
   "execution_count": null,
   "metadata": {},
   "outputs": [],
   "source": [
    "base_path_string = None\n",
    "\n",
    "if base_path_string:\n",
    "    base_path = Path(base_path_string)\n",
    "    pap = base_path / 'pre_augmented'\n",
    "    papo = pap / 'original'\n",
    "    paps = pap / 'segmentations'\n",
    "    papi = pap / 'images'\n",
    "    pai = base_path / 'images'\n",
    "    pam = base_path / 'models'\n",
    "    pas = base_path / 'segmentations'\n",
    "    pasu = base_path / 'subsets'\n",
    "\n",
    "    paths = [pap, papo, paps, papi, pai, pam, pas, pasu]\n",
    "\n",
    "    for p in paths:\n",
    "        p.mkdir(parents=True, exist_ok=True)"
   ]
  },
  {
   "cell_type": "code",
   "execution_count": 2,
   "metadata": {},
   "outputs": [],
   "source": [
    "handpicked_number = 3"
   ]
  },
  {
   "cell_type": "code",
   "execution_count": 3,
   "metadata": {},
   "outputs": [
    {
     "name": "stdout",
     "output_type": "stream",
     "text": [
      "Processing 1.png: Original mode: L\n",
      "Converted mode: L\n",
      "Converted image saved to: SURE/datasets/handpicked/3/pre_augmented/images\\1.png\n",
      "Processing 15.png: Original mode: L\n",
      "Converted mode: L\n",
      "Converted image saved to: SURE/datasets/handpicked/3/pre_augmented/images\\15.png\n",
      "Processing 16.png: Original mode: L\n",
      "Converted mode: L\n",
      "Converted image saved to: SURE/datasets/handpicked/3/pre_augmented/images\\16.png\n",
      "Processing 17.png: Original mode: L\n",
      "Converted mode: L\n",
      "Converted image saved to: SURE/datasets/handpicked/3/pre_augmented/images\\17.png\n",
      "Processing 26.png: Original mode: L\n",
      "Converted mode: L\n",
      "Converted image saved to: SURE/datasets/handpicked/3/pre_augmented/images\\26.png\n",
      "Processing 32.png: Original mode: RGBA\n",
      "Converted mode: RGB\n",
      "Converted image saved to: SURE/datasets/handpicked/3/pre_augmented/images\\32.png\n",
      "Processing 33.png: Original mode: RGBA\n",
      "Converted mode: RGB\n",
      "Converted image saved to: SURE/datasets/handpicked/3/pre_augmented/images\\33.png\n",
      "Processing 46.png: Original mode: I\n",
      "Converted mode: I\n",
      "Converted image saved to: SURE/datasets/handpicked/3/pre_augmented/images\\46.png\n",
      "Processing 47.png: Original mode: I\n",
      "Converted mode: I\n",
      "Converted image saved to: SURE/datasets/handpicked/3/pre_augmented/images\\47.png\n",
      "Processing 48.png: Original mode: I\n",
      "Converted mode: I\n",
      "Converted image saved to: SURE/datasets/handpicked/3/pre_augmented/images\\48.png\n",
      "Processing 50.png: Original mode: I\n",
      "Converted mode: I\n",
      "Converted image saved to: SURE/datasets/handpicked/3/pre_augmented/images\\50.png\n",
      "Processing 51.png: Original mode: I\n",
      "Converted mode: I\n",
      "Converted image saved to: SURE/datasets/handpicked/3/pre_augmented/images\\51.png\n",
      "Processing 52.png: Original mode: I\n",
      "Converted mode: I\n",
      "Converted image saved to: SURE/datasets/handpicked/3/pre_augmented/images\\52.png\n",
      "Processing 55.png: Original mode: I\n",
      "Converted mode: I\n",
      "Converted image saved to: SURE/datasets/handpicked/3/pre_augmented/images\\55.png\n",
      "Processing 59.png: Original mode: I\n",
      "Converted mode: I\n",
      "Converted image saved to: SURE/datasets/handpicked/3/pre_augmented/images\\59.png\n",
      "Processing 6.png: Original mode: L\n",
      "Converted mode: L\n",
      "Converted image saved to: SURE/datasets/handpicked/3/pre_augmented/images\\6.png\n",
      "Processing 7.png: Original mode: L\n",
      "Converted mode: L\n",
      "Converted image saved to: SURE/datasets/handpicked/3/pre_augmented/images\\7.png\n",
      "Processing 8.png: Original mode: L\n",
      "Converted mode: L\n",
      "Converted image saved to: SURE/datasets/handpicked/3/pre_augmented/images\\8.png\n"
     ]
    }
   ],
   "source": [
    "from SURE.custom.imageModeConversion import convert_images_in_directory\n",
    "\n",
    "\n",
    "convert_images_in_directory(f'SURE/datasets/handpicked/{handpicked_number}/pre_augmented/original', f'SURE/datasets/handpicked/{handpicked_number}/pre_augmented/images', target_mode=\"RGB\")"
   ]
  },
  {
   "cell_type": "code",
   "execution_count": 4,
   "metadata": {},
   "outputs": [],
   "source": [
    "from pathlib import Path\n",
    "from Core.DataPreparation import AugmentImages\n",
    "from SURE.custom.paths import empty_directory\n",
    "\n",
    "def augment_images(input_path: Path, output_path: Path = None, count=20, distort=False):\n",
    "    \n",
    "    imagesDirectory = input_path / 'images'\n",
    "    segmentationsDirectory = input_path / 'segmentations'\n",
    "    \n",
    "    if not output_path:\n",
    "        outputDirectory = input_path.parent\n",
    "    else:\n",
    "        outputDirectory = output_path\n",
    "        \n",
    "    outputImages = outputDirectory / 'images'\n",
    "    outputSegmentations = outputDirectory / 'segmentations'\n",
    "    \n",
    "    outputImages.mkdir(parents=True, exist_ok=True)\n",
    "    outputSegmentations.mkdir(parents=True, exist_ok=True)\n",
    "    \n",
    "    empty_directory(outputImages)\n",
    "    empty_directory(outputSegmentations)\n",
    "    \n",
    "    AugmentImages(imagesDirectory=imagesDirectory, segmentationsDirectory=segmentationsDirectory, outputDirectory=outputDirectory, count=count, distort=distort)\n",
    "    \n",
    "    return (outputImages, outputSegmentations)"
   ]
  },
  {
   "cell_type": "code",
   "execution_count": 5,
   "metadata": {},
   "outputs": [],
   "source": [
    "images_dir, segmentations_dir, handpicked_path = None, None, None"
   ]
  },
  {
   "cell_type": "code",
   "execution_count": 6,
   "metadata": {},
   "outputs": [
    {
     "name": "stdout",
     "output_type": "stream",
     "text": [
      "Images directory: c:\\Users\\chisa\\Documents\\GitHub\\OrganoID_IIT\\SURE\\datasets\\handpicked\\3\\pre_augmented\\images\n",
      "Segmentations directory: c:\\Users\\chisa\\Documents\\GitHub\\OrganoID_IIT\\SURE\\datasets\\handpicked\\3\\pre_augmented\\segmentations\n",
      "Output directory: c:\\Users\\chisa\\Documents\\GitHub\\OrganoID_IIT\\SURE\\datasets\\handpicked\\3\n",
      "Initialised with 18 image(s) found.\n",
      "Output directory set to c:\\Users\\chisa\\Documents\\GitHub\\OrganoID_IIT\\SURE\\datasets\\handpicked\\3.c:\\Users\\chisa\\Documents\\GitHub\\OrganoID_IIT\\SURE\\datasets\\handpicked\\3\\pre_augmented\\segmentations\n"
     ]
    },
    {
     "name": "stderr",
     "output_type": "stream",
     "text": [
      "                                                       \r"
     ]
    },
    {
     "name": "stdout",
     "output_type": "stream",
     "text": [
      "18 ground truth image(s) found.\n"
     ]
    },
    {
     "name": "stderr",
     "output_type": "stream",
     "text": [
      "Processing <PIL.Image.Image image mode=I size=512x512 at 0x1D49F54A3B0>: 100%|██████████| 2000/2000 [02:28<00:00, 13.46 Samples/s]  \n"
     ]
    }
   ],
   "source": [
    "#@title Generate random images from handpicked examples\n",
    "from Core.DataPreparation import AugmentImages, SplitData\n",
    "\n",
    "\n",
    "handpicked_path = Path(f'SURE/datasets/handpicked/{handpicked_number}/pre_augmented/')\n",
    "count = 2000\n",
    "\n",
    "images_dir, segmentations_dir = augment_images(handpicked_path, count=count)"
   ]
  },
  {
   "cell_type": "code",
   "execution_count": 7,
   "metadata": {},
   "outputs": [],
   "source": [
    "import math\n",
    "import shutil\n",
    "from typing import List\n",
    "\n",
    "import numpy as np\n",
    "\n",
    "\n",
    "def _CopyToPath(paths: List[Path], output: Path):\n",
    "    output.mkdir(parents=True, exist_ok=True)\n",
    "    for path in paths:\n",
    "        newPath = output / path.name\n",
    "        shutil.copy(path, newPath)\n",
    "\n",
    "def SplitDataMultiple(imagePaths: List[Path], segmentationPaths: List[Path], validationFraction: float,\n",
    "              testingFraction: float,\n",
    "              outputDirectory: Path,\n",
    "              required_numbers: List[int]):\n",
    "    # Sort paths alphabetically\n",
    "    imagePaths.sort(key=lambda x: x.stem)\n",
    "    segmentationPaths.sort(key=lambda x: x.stem)\n",
    "\n",
    "    # Only use paths that have matched names in image and segmentations directory\n",
    "    imagePaths = np.asarray([path for path in imagePaths if\n",
    "                             path.stem in [segPath.stem for segPath in segmentationPaths]])\n",
    "    segmentationPaths = np.asarray([path for path in segmentationPaths if\n",
    "                                    path.stem in [imagePath.stem for imagePath in imagePaths]])\n",
    "\n",
    "    # Carry out the split!\n",
    "    permutation = np.random.permutation(len(imagePaths))\n",
    "    \n",
    "    for n in required_numbers:\n",
    "        adjusted_number = math.ceil(n/(1-validationFraction-testingFraction))\n",
    "        current_portion = permutation[:adjusted_number]\n",
    "        numValidation = math.ceil(adjusted_number * validationFraction)\n",
    "        \n",
    "        trainingIndices = current_portion[:n]\n",
    "        validationIndices = current_portion[n:(n + numValidation)]\n",
    "        testingIndices = current_portion[(n + numValidation):adjusted_number]\n",
    "\n",
    "        # Save the images\n",
    "        _CopyToPath(imagePaths[trainingIndices], outputDirectory / str(n) / \"training\" / \"images\")\n",
    "        _CopyToPath(imagePaths[validationIndices], outputDirectory / str(n) / \"validation\" / \"images\")\n",
    "        _CopyToPath(imagePaths[testingIndices], outputDirectory / str(n) / \"testing\" / \"images\")\n",
    "        _CopyToPath(segmentationPaths[trainingIndices], outputDirectory / str(n) / \"training\" / \"segmentations\")\n",
    "        _CopyToPath(segmentationPaths[validationIndices],\n",
    "                    outputDirectory / str(n) / \"validation\" / \"segmentations\")\n",
    "        _CopyToPath(segmentationPaths[testingIndices], outputDirectory / str(n) / \"testing\" / \"segmentations\")\n",
    "        "
   ]
  },
  {
   "cell_type": "code",
   "execution_count": 8,
   "metadata": {},
   "outputs": [
    {
     "data": {
      "text/plain": [
       "WindowsPath('SURE/datasets/handpicked/3/subsets')"
      ]
     },
     "execution_count": 8,
     "metadata": {},
     "output_type": "execute_result"
    }
   ],
   "source": [
    "#@title split data\n",
    "r_path = handpicked_path.parent\n",
    "if not images_dir or not segmentations_dir or not handpicked_path:\n",
    "    handpicked_path = Path(f'SURE/datasets/handpicked/{handpicked_number}/pre_augmented/')\n",
    "    r_path = handpicked_path.parent\n",
    "    images_dir = r_path / 'images'\n",
    "    segmentations_dir = r_path / 'segmentations'\n",
    "\n",
    "image_paths = list(images_dir.glob('*.png'))\n",
    "segmentation_paths = list(segmentations_dir.glob('*.png'))\n",
    "\n",
    "validation_fraction = 0.15\n",
    "testing_fraction = 0.15\n",
    "\n",
    "output_dir = r_path / \"subsets\"\n",
    "\n",
    "# empty_directory(output_dir)\n",
    "\n",
    "output_dir"
   ]
  },
  {
   "cell_type": "code",
   "execution_count": 9,
   "metadata": {},
   "outputs": [
    {
     "data": {
      "text/plain": [
       "[20,\n",
       " 40,\n",
       " 60,\n",
       " 80,\n",
       " 100,\n",
       " 120,\n",
       " 140,\n",
       " 160,\n",
       " 180,\n",
       " 200,\n",
       " 220,\n",
       " 240,\n",
       " 260,\n",
       " 280,\n",
       " 300,\n",
       " 320,\n",
       " 340,\n",
       " 360,\n",
       " 380,\n",
       " 400,\n",
       " 420,\n",
       " 440,\n",
       " 460,\n",
       " 480,\n",
       " 500,\n",
       " 520,\n",
       " 540,\n",
       " 560,\n",
       " 580,\n",
       " 600,\n",
       " 620,\n",
       " 640,\n",
       " 660,\n",
       " 680,\n",
       " 700,\n",
       " 720,\n",
       " 740,\n",
       " 760,\n",
       " 780,\n",
       " 800,\n",
       " 820,\n",
       " 840,\n",
       " 860,\n",
       " 880,\n",
       " 900,\n",
       " 920,\n",
       " 940,\n",
       " 960,\n",
       " 980,\n",
       " 1000]"
      ]
     },
     "execution_count": 9,
     "metadata": {},
     "output_type": "execute_result"
    }
   ],
   "source": [
    "amounts = list(range(20,1001,20))\n",
    "amounts"
   ]
  },
  {
   "cell_type": "markdown",
   "metadata": {},
   "source": []
  },
  {
   "cell_type": "code",
   "execution_count": 10,
   "metadata": {},
   "outputs": [],
   "source": [
    "SplitDataMultiple(imagePaths=image_paths, segmentationPaths=segmentation_paths, validationFraction=validation_fraction, testingFraction=testing_fraction, outputDirectory=r_path / \"subsets\", required_numbers=amounts)"
   ]
  },
  {
   "cell_type": "code",
   "execution_count": 11,
   "metadata": {},
   "outputs": [],
   "source": [
    "# import tensorflow as tf\n",
    "\n",
    "# print(\"Num GPUs Available: \", len(tf.config.experimental.list_physical_devices('GPU')))"
   ]
  },
  {
   "cell_type": "code",
   "execution_count": 12,
   "metadata": {},
   "outputs": [],
   "source": [
    "# import math\n",
    "# import pathlib\n",
    "\n",
    "# import tensorflow as tf\n",
    "# import numpy as np\n",
    "# from PIL import Image\n",
    "# from typing import List, Tuple, Union\n",
    "# from ImageHandling import NumFrames, GetFrames\n",
    "# from HelperFunctions import printRep\n",
    "# from pathlib import Path\n",
    "\n"
   ]
  }
 ],
 "metadata": {
  "kernelspec": {
   "display_name": "OrganoID",
   "language": "python",
   "name": "python3"
  },
  "language_info": {
   "codemirror_mode": {
    "name": "ipython",
    "version": 3
   },
   "file_extension": ".py",
   "mimetype": "text/x-python",
   "name": "python",
   "nbconvert_exporter": "python",
   "pygments_lexer": "ipython3",
   "version": "3.10.12"
  }
 },
 "nbformat": 4,
 "nbformat_minor": 2
}

{
 "cells": [
  {
   "cell_type": "code",
   "execution_count": 1,
   "metadata": {},
   "outputs": [
    {
     "name": "stderr",
     "output_type": "stream",
     "text": [
      "c:\\Users\\chisa\\miniconda3\\envs\\nomi3\\lib\\site-packages\\paramiko\\transport.py:219: CryptographyDeprecationWarning: Blowfish has been deprecated\n",
      "  \"class\": algorithms.Blowfish,\n"
     ]
    }
   ],
   "source": [
    "import math\n",
    "from pathlib import Path\n",
    "from typing import List\n",
    "import numpy as np\n",
    "import tensorflow as tf\n",
    "from PIL import Image\n",
    "import matplotlib.pyplot as plt\n",
    "import pandas as pd\n",
    "# from SURE.custom.Core.Model import BuildModel, TrainModel, GroundTruth, ComputeIOUs  # Importing necessary functions and classes\n",
    "from Core.Model import BuildModel, TrainModel, GroundTruth, ComputeIOUs"
   ]
  },
  {
   "cell_type": "code",
   "execution_count": 2,
   "metadata": {},
   "outputs": [
    {
     "data": {
      "text/plain": [
       "[PhysicalDevice(name='/physical_device:GPU:0', device_type='GPU')]"
      ]
     },
     "execution_count": 2,
     "metadata": {},
     "output_type": "execute_result"
    }
   ],
   "source": [
    "physical_devices = tf.config.list_physical_devices('GPU')\n",
    "physical_devices"
   ]
  },
  {
   "cell_type": "code",
   "execution_count": 3,
   "metadata": {},
   "outputs": [],
   "source": [
    "root_path = Path('.') / 'SURE/datasets/handpicked/3'"
   ]
  },
  {
   "cell_type": "code",
   "execution_count": 4,
   "metadata": {},
   "outputs": [
    {
     "data": {
      "text/plain": [
       "(WindowsPath('SURE/datasets/handpicked/3/subsets'),\n",
       " WindowsPath('SURE/datasets/handpicked/3/models'))"
      ]
     },
     "execution_count": 4,
     "metadata": {},
     "output_type": "execute_result"
    }
   ],
   "source": [
    "training_sets = root_path / 'subsets'\n",
    "save_directory = root_path / 'models'\n",
    "\n",
    "(training_sets, save_directory)"
   ]
  },
  {
   "cell_type": "code",
   "execution_count": 5,
   "metadata": {},
   "outputs": [],
   "source": [
    "def get_ground_truths(images_dir: Path, segmentations_dir: Path) -> List[GroundTruth]:\n",
    "    image_paths = list(images_dir.glob('*.png'))\n",
    "    segmentation_paths = list(segmentations_dir.glob('*.png'))\n",
    "    \n",
    "    ground_truths = []\n",
    "    for img_path in image_paths:\n",
    "        seg_path = segmentations_dir / img_path.name\n",
    "        if seg_path in segmentation_paths:\n",
    "            ground_truths.append(GroundTruth(img_path, seg_path))\n",
    "    \n",
    "    return ground_truths\n",
    "\n",
    "def retrieve_ground_truths(root_path: Path):\n",
    "    training_images_dir = root_path / \"training\" / \"images\"\n",
    "    training_segmentations_dir = root_path / \"training\" / \"segmentations\"\n",
    "    validation_images_dir = root_path / \"validation\" / \"images\"\n",
    "    validation_segmentations_dir = root_path / \"validation\" / \"segmentations\"\n",
    "    test_images_dir = root_path / \"testing\" / \"images\"\n",
    "    test_segmentations_dir = root_path / \"testing\" / \"segmentations\"\n",
    "\n",
    "    # Get all ground truths\n",
    "    all_training_ground_truths = get_ground_truths(training_images_dir, training_segmentations_dir)\n",
    "    validation_ground_truths = get_ground_truths(validation_images_dir, validation_segmentations_dir)\n",
    "    test_ground_truths = get_ground_truths(test_images_dir, test_segmentations_dir)\n",
    "    \n",
    "    return all_training_ground_truths, validation_ground_truths, test_ground_truths"
   ]
  },
  {
   "cell_type": "code",
   "execution_count": 6,
   "metadata": {},
   "outputs": [],
   "source": [
    "image_size = (512, 512)  # Adjust if your image size is different\n",
    "dropout_rate = 0.125\n",
    "first_layer_filter_count = 8\n",
    "\n",
    "# Training parameters\n",
    "learning_rate = 0.001\n",
    "patience = 10\n",
    "epochs = 10\n",
    "batch_size = 8\n",
    "save_name_prefix = \"UNet\"\n",
    "save_lite = False\n",
    "save_all = True"
   ]
  },
  {
   "cell_type": "code",
   "execution_count": 7,
   "metadata": {},
   "outputs": [],
   "source": [
    "train_ious = []\n",
    "val_ious = []\n",
    "test_ious = []\n",
    "\n",
    "folder_names = [folder for folder in training_sets.iterdir() if folder.is_dir()]\n",
    "folder_names.sort(key=lambda x: int(x.name))\n",
    "\n",
    "alldata = []"
   ]
  },
  {
   "cell_type": "code",
   "execution_count": 8,
   "metadata": {},
   "outputs": [],
   "source": [
    "load_model = False"
   ]
  },
  {
   "cell_type": "code",
   "execution_count": 9,
   "metadata": {},
   "outputs": [],
   "source": [
    "from Core.ImageHandling import LoadPILImages\n",
    "from Core.Model import LoadFullModel\n",
    "\n",
    "\n",
    "if load_model:\n",
    "    test_path = Path(r'SURE\\datasets\\original\\MouseOrganoids')\n",
    "    ground = retrieve_ground_truths(test_path)[2]\n",
    "    model_path = save_directory / \"100/UNet_100_images_E063\"\n",
    "    model = LoadFullModel(model_path)\n",
    "    iou = ComputeIOUs(model, LoadPILImages([gt.imagePath for gt in ground]), LoadPILImages([gt.segmentationPath for gt in ground]))\n",
    "    \n",
    "    print(f\"Mean:{np.mean(iou)}; Std: {np.std(iou)}\")"
   ]
  },
  {
   "cell_type": "code",
   "execution_count": 10,
   "metadata": {},
   "outputs": [
    {
     "name": "stdout",
     "output_type": "stream",
     "text": [
      "Training with SURE\\datasets\\handpicked\\3\\subsets\\20 images\n",
      "Epoch 1/10\n",
      "3/3 [==============================] - ETA: 0s - loss: 32.6659\n",
      "Epoch 1: saving model to c:\\Users\\chisa\\Documents\\GitHub\\OrganoID_IIT\\SURE\\datasets\\handpicked\\3\\models\\20\\UNet_20_images_E001\n"
     ]
    },
    {
     "name": "stderr",
     "output_type": "stream",
     "text": [
      "WARNING:absl:Found untraced functions such as _jit_compiled_convolution_op, _jit_compiled_convolution_op, _jit_compiled_convolution_op, _jit_compiled_convolution_op, _jit_compiled_convolution_op while saving (showing 5 of 23). These functions will not be directly callable after loading.\n"
     ]
    },
    {
     "name": "stdout",
     "output_type": "stream",
     "text": [
      "INFO:tensorflow:Assets written to: c:\\Users\\chisa\\Documents\\GitHub\\OrganoID_IIT\\SURE\\datasets\\handpicked\\3\\models\\20\\UNet_20_images_E001\\assets\n"
     ]
    },
    {
     "name": "stderr",
     "output_type": "stream",
     "text": [
      "INFO:tensorflow:Assets written to: c:\\Users\\chisa\\Documents\\GitHub\\OrganoID_IIT\\SURE\\datasets\\handpicked\\3\\models\\20\\UNet_20_images_E001\\assets\n"
     ]
    },
    {
     "name": "stdout",
     "output_type": "stream",
     "text": [
      "3/3 [==============================] - 25s 3s/step - loss: 32.6659 - val_loss: 6.8066\n",
      "Epoch 2/10\n",
      "3/3 [==============================] - ETA: 0s - loss: 7.9589\n",
      "Epoch 2: saving model to c:\\Users\\chisa\\Documents\\GitHub\\OrganoID_IIT\\SURE\\datasets\\handpicked\\3\\models\\20\\UNet_20_images_E002\n"
     ]
    },
    {
     "name": "stderr",
     "output_type": "stream",
     "text": [
      "WARNING:absl:Found untraced functions such as _jit_compiled_convolution_op, _jit_compiled_convolution_op, _jit_compiled_convolution_op, _jit_compiled_convolution_op, _jit_compiled_convolution_op while saving (showing 5 of 23). These functions will not be directly callable after loading.\n"
     ]
    },
    {
     "name": "stdout",
     "output_type": "stream",
     "text": [
      "INFO:tensorflow:Assets written to: c:\\Users\\chisa\\Documents\\GitHub\\OrganoID_IIT\\SURE\\datasets\\handpicked\\3\\models\\20\\UNet_20_images_E002\\assets\n"
     ]
    },
    {
     "name": "stderr",
     "output_type": "stream",
     "text": [
      "INFO:tensorflow:Assets written to: c:\\Users\\chisa\\Documents\\GitHub\\OrganoID_IIT\\SURE\\datasets\\handpicked\\3\\models\\20\\UNet_20_images_E002\\assets\n"
     ]
    },
    {
     "name": "stdout",
     "output_type": "stream",
     "text": [
      "3/3 [==============================] - 4s 2s/step - loss: 7.9589 - val_loss: 6.9858\n",
      "Epoch 3/10\n",
      "3/3 [==============================] - ETA: 0s - loss: 5.9312\n",
      "Epoch 3: saving model to c:\\Users\\chisa\\Documents\\GitHub\\OrganoID_IIT\\SURE\\datasets\\handpicked\\3\\models\\20\\UNet_20_images_E003\n"
     ]
    },
    {
     "name": "stderr",
     "output_type": "stream",
     "text": [
      "WARNING:absl:Found untraced functions such as _jit_compiled_convolution_op, _jit_compiled_convolution_op, _jit_compiled_convolution_op, _jit_compiled_convolution_op, _jit_compiled_convolution_op while saving (showing 5 of 23). These functions will not be directly callable after loading.\n"
     ]
    },
    {
     "name": "stdout",
     "output_type": "stream",
     "text": [
      "INFO:tensorflow:Assets written to: c:\\Users\\chisa\\Documents\\GitHub\\OrganoID_IIT\\SURE\\datasets\\handpicked\\3\\models\\20\\UNet_20_images_E003\\assets\n"
     ]
    },
    {
     "name": "stderr",
     "output_type": "stream",
     "text": [
      "INFO:tensorflow:Assets written to: c:\\Users\\chisa\\Documents\\GitHub\\OrganoID_IIT\\SURE\\datasets\\handpicked\\3\\models\\20\\UNet_20_images_E003\\assets\n"
     ]
    },
    {
     "name": "stdout",
     "output_type": "stream",
     "text": [
      "3/3 [==============================] - 4s 2s/step - loss: 5.9312 - val_loss: 4.9964\n",
      "Epoch 4/10\n",
      "3/3 [==============================] - ETA: 0s - loss: 4.2628\n",
      "Epoch 4: saving model to c:\\Users\\chisa\\Documents\\GitHub\\OrganoID_IIT\\SURE\\datasets\\handpicked\\3\\models\\20\\UNet_20_images_E004\n"
     ]
    },
    {
     "name": "stderr",
     "output_type": "stream",
     "text": [
      "WARNING:absl:Found untraced functions such as _jit_compiled_convolution_op, _jit_compiled_convolution_op, _jit_compiled_convolution_op, _jit_compiled_convolution_op, _jit_compiled_convolution_op while saving (showing 5 of 23). These functions will not be directly callable after loading.\n"
     ]
    },
    {
     "name": "stdout",
     "output_type": "stream",
     "text": [
      "INFO:tensorflow:Assets written to: c:\\Users\\chisa\\Documents\\GitHub\\OrganoID_IIT\\SURE\\datasets\\handpicked\\3\\models\\20\\UNet_20_images_E004\\assets\n"
     ]
    },
    {
     "name": "stderr",
     "output_type": "stream",
     "text": [
      "INFO:tensorflow:Assets written to: c:\\Users\\chisa\\Documents\\GitHub\\OrganoID_IIT\\SURE\\datasets\\handpicked\\3\\models\\20\\UNet_20_images_E004\\assets\n"
     ]
    },
    {
     "name": "stdout",
     "output_type": "stream",
     "text": [
      "3/3 [==============================] - 4s 2s/step - loss: 4.2628 - val_loss: 3.0646\n",
      "Epoch 5/10\n",
      "3/3 [==============================] - ETA: 0s - loss: 3.1408\n",
      "Epoch 5: saving model to c:\\Users\\chisa\\Documents\\GitHub\\OrganoID_IIT\\SURE\\datasets\\handpicked\\3\\models\\20\\UNet_20_images_E005\n"
     ]
    },
    {
     "name": "stderr",
     "output_type": "stream",
     "text": [
      "WARNING:absl:Found untraced functions such as _jit_compiled_convolution_op, _jit_compiled_convolution_op, _jit_compiled_convolution_op, _jit_compiled_convolution_op, _jit_compiled_convolution_op while saving (showing 5 of 23). These functions will not be directly callable after loading.\n"
     ]
    },
    {
     "name": "stdout",
     "output_type": "stream",
     "text": [
      "INFO:tensorflow:Assets written to: c:\\Users\\chisa\\Documents\\GitHub\\OrganoID_IIT\\SURE\\datasets\\handpicked\\3\\models\\20\\UNet_20_images_E005\\assets\n"
     ]
    },
    {
     "name": "stderr",
     "output_type": "stream",
     "text": [
      "INFO:tensorflow:Assets written to: c:\\Users\\chisa\\Documents\\GitHub\\OrganoID_IIT\\SURE\\datasets\\handpicked\\3\\models\\20\\UNet_20_images_E005\\assets\n"
     ]
    },
    {
     "name": "stdout",
     "output_type": "stream",
     "text": [
      "3/3 [==============================] - 4s 2s/step - loss: 3.1408 - val_loss: 2.1543\n",
      "Epoch 6/10\n",
      "3/3 [==============================] - ETA: 0s - loss: 2.4670\n",
      "Epoch 6: saving model to c:\\Users\\chisa\\Documents\\GitHub\\OrganoID_IIT\\SURE\\datasets\\handpicked\\3\\models\\20\\UNet_20_images_E006\n"
     ]
    },
    {
     "name": "stderr",
     "output_type": "stream",
     "text": [
      "WARNING:absl:Found untraced functions such as _jit_compiled_convolution_op, _jit_compiled_convolution_op, _jit_compiled_convolution_op, _jit_compiled_convolution_op, _jit_compiled_convolution_op while saving (showing 5 of 23). These functions will not be directly callable after loading.\n"
     ]
    },
    {
     "name": "stdout",
     "output_type": "stream",
     "text": [
      "INFO:tensorflow:Assets written to: c:\\Users\\chisa\\Documents\\GitHub\\OrganoID_IIT\\SURE\\datasets\\handpicked\\3\\models\\20\\UNet_20_images_E006\\assets\n"
     ]
    },
    {
     "name": "stderr",
     "output_type": "stream",
     "text": [
      "INFO:tensorflow:Assets written to: c:\\Users\\chisa\\Documents\\GitHub\\OrganoID_IIT\\SURE\\datasets\\handpicked\\3\\models\\20\\UNet_20_images_E006\\assets\n"
     ]
    },
    {
     "name": "stdout",
     "output_type": "stream",
     "text": [
      "3/3 [==============================] - 4s 2s/step - loss: 2.4670 - val_loss: 1.7203\n",
      "Epoch 7/10\n",
      "3/3 [==============================] - ETA: 0s - loss: 2.0762\n",
      "Epoch 7: saving model to c:\\Users\\chisa\\Documents\\GitHub\\OrganoID_IIT\\SURE\\datasets\\handpicked\\3\\models\\20\\UNet_20_images_E007\n"
     ]
    },
    {
     "name": "stderr",
     "output_type": "stream",
     "text": [
      "WARNING:absl:Found untraced functions such as _jit_compiled_convolution_op, _jit_compiled_convolution_op, _jit_compiled_convolution_op, _jit_compiled_convolution_op, _jit_compiled_convolution_op while saving (showing 5 of 23). These functions will not be directly callable after loading.\n"
     ]
    },
    {
     "name": "stdout",
     "output_type": "stream",
     "text": [
      "INFO:tensorflow:Assets written to: c:\\Users\\chisa\\Documents\\GitHub\\OrganoID_IIT\\SURE\\datasets\\handpicked\\3\\models\\20\\UNet_20_images_E007\\assets\n"
     ]
    },
    {
     "name": "stderr",
     "output_type": "stream",
     "text": [
      "INFO:tensorflow:Assets written to: c:\\Users\\chisa\\Documents\\GitHub\\OrganoID_IIT\\SURE\\datasets\\handpicked\\3\\models\\20\\UNet_20_images_E007\\assets\n"
     ]
    },
    {
     "name": "stdout",
     "output_type": "stream",
     "text": [
      "3/3 [==============================] - 4s 2s/step - loss: 2.0762 - val_loss: 1.5544\n",
      "Epoch 8/10\n",
      "3/3 [==============================] - ETA: 0s - loss: 1.8664\n",
      "Epoch 8: saving model to c:\\Users\\chisa\\Documents\\GitHub\\OrganoID_IIT\\SURE\\datasets\\handpicked\\3\\models\\20\\UNet_20_images_E008\n"
     ]
    },
    {
     "name": "stderr",
     "output_type": "stream",
     "text": [
      "WARNING:absl:Found untraced functions such as _jit_compiled_convolution_op, _jit_compiled_convolution_op, _jit_compiled_convolution_op, _jit_compiled_convolution_op, _jit_compiled_convolution_op while saving (showing 5 of 23). These functions will not be directly callable after loading.\n"
     ]
    },
    {
     "name": "stdout",
     "output_type": "stream",
     "text": [
      "INFO:tensorflow:Assets written to: c:\\Users\\chisa\\Documents\\GitHub\\OrganoID_IIT\\SURE\\datasets\\handpicked\\3\\models\\20\\UNet_20_images_E008\\assets\n"
     ]
    },
    {
     "name": "stderr",
     "output_type": "stream",
     "text": [
      "INFO:tensorflow:Assets written to: c:\\Users\\chisa\\Documents\\GitHub\\OrganoID_IIT\\SURE\\datasets\\handpicked\\3\\models\\20\\UNet_20_images_E008\\assets\n"
     ]
    },
    {
     "name": "stdout",
     "output_type": "stream",
     "text": [
      "3/3 [==============================] - 4s 2s/step - loss: 1.8664 - val_loss: 1.6467\n",
      "Epoch 9/10\n",
      "3/3 [==============================] - ETA: 0s - loss: 1.7526\n",
      "Epoch 9: saving model to c:\\Users\\chisa\\Documents\\GitHub\\OrganoID_IIT\\SURE\\datasets\\handpicked\\3\\models\\20\\UNet_20_images_E009\n"
     ]
    },
    {
     "name": "stderr",
     "output_type": "stream",
     "text": [
      "WARNING:absl:Found untraced functions such as _jit_compiled_convolution_op, _jit_compiled_convolution_op, _jit_compiled_convolution_op, _jit_compiled_convolution_op, _jit_compiled_convolution_op while saving (showing 5 of 23). These functions will not be directly callable after loading.\n"
     ]
    },
    {
     "name": "stdout",
     "output_type": "stream",
     "text": [
      "INFO:tensorflow:Assets written to: c:\\Users\\chisa\\Documents\\GitHub\\OrganoID_IIT\\SURE\\datasets\\handpicked\\3\\models\\20\\UNet_20_images_E009\\assets\n"
     ]
    },
    {
     "name": "stderr",
     "output_type": "stream",
     "text": [
      "INFO:tensorflow:Assets written to: c:\\Users\\chisa\\Documents\\GitHub\\OrganoID_IIT\\SURE\\datasets\\handpicked\\3\\models\\20\\UNet_20_images_E009\\assets\n"
     ]
    },
    {
     "name": "stdout",
     "output_type": "stream",
     "text": [
      "3/3 [==============================] - 4s 2s/step - loss: 1.7526 - val_loss: 1.5994\n",
      "Epoch 10/10\n",
      "3/3 [==============================] - ETA: 0s - loss: 1.6309\n",
      "Epoch 10: saving model to c:\\Users\\chisa\\Documents\\GitHub\\OrganoID_IIT\\SURE\\datasets\\handpicked\\3\\models\\20\\UNet_20_images_E010\n"
     ]
    },
    {
     "name": "stderr",
     "output_type": "stream",
     "text": [
      "WARNING:absl:Found untraced functions such as _jit_compiled_convolution_op, _jit_compiled_convolution_op, _jit_compiled_convolution_op, _jit_compiled_convolution_op, _jit_compiled_convolution_op while saving (showing 5 of 23). These functions will not be directly callable after loading.\n"
     ]
    },
    {
     "name": "stdout",
     "output_type": "stream",
     "text": [
      "INFO:tensorflow:Assets written to: c:\\Users\\chisa\\Documents\\GitHub\\OrganoID_IIT\\SURE\\datasets\\handpicked\\3\\models\\20\\UNet_20_images_E010\\assets\n"
     ]
    },
    {
     "name": "stderr",
     "output_type": "stream",
     "text": [
      "INFO:tensorflow:Assets written to: c:\\Users\\chisa\\Documents\\GitHub\\OrganoID_IIT\\SURE\\datasets\\handpicked\\3\\models\\20\\UNet_20_images_E010\\assets\n"
     ]
    },
    {
     "name": "stdout",
     "output_type": "stream",
     "text": [
      "3/3 [==============================] - 4s 2s/step - loss: 1.6309 - val_loss: 1.2878\n"
     ]
    },
    {
     "name": "stderr",
     "output_type": "stream",
     "text": [
      "WARNING:absl:Found untraced functions such as _jit_compiled_convolution_op, _jit_compiled_convolution_op, _jit_compiled_convolution_op, _jit_compiled_convolution_op, _jit_compiled_convolution_op while saving (showing 5 of 23). These functions will not be directly callable after loading.\n"
     ]
    },
    {
     "name": "stdout",
     "output_type": "stream",
     "text": [
      "INFO:tensorflow:Assets written to: SURE\\datasets\\handpicked\\3\\models\\20\\UNet_20_images_BEST\\assets\n"
     ]
    },
    {
     "name": "stderr",
     "output_type": "stream",
     "text": [
      "INFO:tensorflow:Assets written to: SURE\\datasets\\handpicked\\3\\models\\20\\UNet_20_images_BEST\\assets\n"
     ]
    },
    {
     "name": "stdout",
     "output_type": "stream",
     "text": [
      "Loading images...0/1/2/3/4/5/6/7/8/9/10/211/212/213/214/215/216/217/218/219/20 \n",
      "Done\n",
      "Running model...\n",
      "----------------------------------------------------------------------------------------------------\n",
      "1/1 [==============================] - 2s 2s/step\n",
      "----------------------------------------------------------------------------------------------------\n",
      "Done.\n",
      "Loading images...0/1/2/3/4/5 \n",
      "Done\n",
      "Running model...\n",
      "----------------------------------------------------------------------------------------------------\n",
      "1/1 [==============================] - 0s 25ms/step\n",
      "----------------------------------------------------------------------------------------------------\n",
      "Done.\n",
      "Loading images...0/1/2/3/4 \n",
      "Done\n",
      "Running model...\n",
      "----------------------------------------------------------------------------------------------------\n",
      "1/1 [==============================] - 0s 23ms/step\n",
      "----------------------------------------------------------------------------------------------------\n",
      "Done.\n",
      "Training IoU: 0.2184\n",
      "Validation IoU: 0.2660\n",
      "Test IoU: 0.1758\n",
      "Finished training with 20 images\n",
      "\n",
      "Training with SURE\\datasets\\handpicked\\3\\subsets\\40 images\n",
      "Epoch 1/10\n",
      "5/5 [==============================] - ETA: 0s - loss: 9.9694 \n",
      "Epoch 1: saving model to c:\\Users\\chisa\\Documents\\GitHub\\OrganoID_IIT\\SURE\\datasets\\handpicked\\3\\models\\40\\UNet_40_images_E001\n"
     ]
    },
    {
     "name": "stderr",
     "output_type": "stream",
     "text": [
      "WARNING:absl:Found untraced functions such as _jit_compiled_convolution_op, _jit_compiled_convolution_op, _jit_compiled_convolution_op, _jit_compiled_convolution_op, _jit_compiled_convolution_op while saving (showing 5 of 23). These functions will not be directly callable after loading.\n"
     ]
    },
    {
     "name": "stdout",
     "output_type": "stream",
     "text": [
      "INFO:tensorflow:Assets written to: c:\\Users\\chisa\\Documents\\GitHub\\OrganoID_IIT\\SURE\\datasets\\handpicked\\3\\models\\40\\UNet_40_images_E001\\assets\n"
     ]
    },
    {
     "name": "stderr",
     "output_type": "stream",
     "text": [
      "INFO:tensorflow:Assets written to: c:\\Users\\chisa\\Documents\\GitHub\\OrganoID_IIT\\SURE\\datasets\\handpicked\\3\\models\\40\\UNet_40_images_E001\\assets\n"
     ]
    },
    {
     "name": "stdout",
     "output_type": "stream",
     "text": [
      "5/5 [==============================] - 7s 1s/step - loss: 9.9694 - val_loss: 2.3992\n",
      "Epoch 2/10\n",
      "5/5 [==============================] - ETA: 0s - loss: 2.6310\n",
      "Epoch 2: saving model to c:\\Users\\chisa\\Documents\\GitHub\\OrganoID_IIT\\SURE\\datasets\\handpicked\\3\\models\\40\\UNet_40_images_E002\n"
     ]
    },
    {
     "name": "stderr",
     "output_type": "stream",
     "text": [
      "WARNING:absl:Found untraced functions such as _jit_compiled_convolution_op, _jit_compiled_convolution_op, _jit_compiled_convolution_op, _jit_compiled_convolution_op, _jit_compiled_convolution_op while saving (showing 5 of 23). These functions will not be directly callable after loading.\n"
     ]
    },
    {
     "name": "stdout",
     "output_type": "stream",
     "text": [
      "INFO:tensorflow:Assets written to: c:\\Users\\chisa\\Documents\\GitHub\\OrganoID_IIT\\SURE\\datasets\\handpicked\\3\\models\\40\\UNet_40_images_E002\\assets\n"
     ]
    },
    {
     "name": "stderr",
     "output_type": "stream",
     "text": [
      "INFO:tensorflow:Assets written to: c:\\Users\\chisa\\Documents\\GitHub\\OrganoID_IIT\\SURE\\datasets\\handpicked\\3\\models\\40\\UNet_40_images_E002\\assets\n"
     ]
    },
    {
     "name": "stdout",
     "output_type": "stream",
     "text": [
      "5/5 [==============================] - 5s 1s/step - loss: 2.6310 - val_loss: 2.0607\n",
      "Epoch 3/10\n",
      "5/5 [==============================] - ETA: 0s - loss: 1.9312\n",
      "Epoch 3: saving model to c:\\Users\\chisa\\Documents\\GitHub\\OrganoID_IIT\\SURE\\datasets\\handpicked\\3\\models\\40\\UNet_40_images_E003\n"
     ]
    },
    {
     "name": "stderr",
     "output_type": "stream",
     "text": [
      "WARNING:absl:Found untraced functions such as _jit_compiled_convolution_op, _jit_compiled_convolution_op, _jit_compiled_convolution_op, _jit_compiled_convolution_op, _jit_compiled_convolution_op while saving (showing 5 of 23). These functions will not be directly callable after loading.\n"
     ]
    },
    {
     "name": "stdout",
     "output_type": "stream",
     "text": [
      "INFO:tensorflow:Assets written to: c:\\Users\\chisa\\Documents\\GitHub\\OrganoID_IIT\\SURE\\datasets\\handpicked\\3\\models\\40\\UNet_40_images_E003\\assets\n"
     ]
    },
    {
     "name": "stderr",
     "output_type": "stream",
     "text": [
      "INFO:tensorflow:Assets written to: c:\\Users\\chisa\\Documents\\GitHub\\OrganoID_IIT\\SURE\\datasets\\handpicked\\3\\models\\40\\UNet_40_images_E003\\assets\n"
     ]
    },
    {
     "name": "stdout",
     "output_type": "stream",
     "text": [
      "5/5 [==============================] - 5s 1s/step - loss: 1.9312 - val_loss: 1.7437\n",
      "Epoch 4/10\n",
      "5/5 [==============================] - ETA: 0s - loss: 1.6506\n",
      "Epoch 4: saving model to c:\\Users\\chisa\\Documents\\GitHub\\OrganoID_IIT\\SURE\\datasets\\handpicked\\3\\models\\40\\UNet_40_images_E004\n"
     ]
    },
    {
     "name": "stderr",
     "output_type": "stream",
     "text": [
      "WARNING:absl:Found untraced functions such as _jit_compiled_convolution_op, _jit_compiled_convolution_op, _jit_compiled_convolution_op, _jit_compiled_convolution_op, _jit_compiled_convolution_op while saving (showing 5 of 23). These functions will not be directly callable after loading.\n"
     ]
    },
    {
     "name": "stdout",
     "output_type": "stream",
     "text": [
      "INFO:tensorflow:Assets written to: c:\\Users\\chisa\\Documents\\GitHub\\OrganoID_IIT\\SURE\\datasets\\handpicked\\3\\models\\40\\UNet_40_images_E004\\assets\n"
     ]
    },
    {
     "name": "stderr",
     "output_type": "stream",
     "text": [
      "INFO:tensorflow:Assets written to: c:\\Users\\chisa\\Documents\\GitHub\\OrganoID_IIT\\SURE\\datasets\\handpicked\\3\\models\\40\\UNet_40_images_E004\\assets\n"
     ]
    },
    {
     "name": "stdout",
     "output_type": "stream",
     "text": [
      "5/5 [==============================] - 5s 1s/step - loss: 1.6506 - val_loss: 1.5859\n",
      "Epoch 5/10\n",
      "5/5 [==============================] - ETA: 0s - loss: 1.4830\n",
      "Epoch 5: saving model to c:\\Users\\chisa\\Documents\\GitHub\\OrganoID_IIT\\SURE\\datasets\\handpicked\\3\\models\\40\\UNet_40_images_E005\n"
     ]
    },
    {
     "name": "stderr",
     "output_type": "stream",
     "text": [
      "WARNING:absl:Found untraced functions such as _jit_compiled_convolution_op, _jit_compiled_convolution_op, _jit_compiled_convolution_op, _jit_compiled_convolution_op, _jit_compiled_convolution_op while saving (showing 5 of 23). These functions will not be directly callable after loading.\n"
     ]
    },
    {
     "name": "stdout",
     "output_type": "stream",
     "text": [
      "INFO:tensorflow:Assets written to: c:\\Users\\chisa\\Documents\\GitHub\\OrganoID_IIT\\SURE\\datasets\\handpicked\\3\\models\\40\\UNet_40_images_E005\\assets\n"
     ]
    },
    {
     "name": "stderr",
     "output_type": "stream",
     "text": [
      "INFO:tensorflow:Assets written to: c:\\Users\\chisa\\Documents\\GitHub\\OrganoID_IIT\\SURE\\datasets\\handpicked\\3\\models\\40\\UNet_40_images_E005\\assets\n"
     ]
    },
    {
     "name": "stdout",
     "output_type": "stream",
     "text": [
      "5/5 [==============================] - 5s 1s/step - loss: 1.4830 - val_loss: 1.4857\n",
      "Epoch 6/10\n",
      "5/5 [==============================] - ETA: 0s - loss: 1.3652\n",
      "Epoch 6: saving model to c:\\Users\\chisa\\Documents\\GitHub\\OrganoID_IIT\\SURE\\datasets\\handpicked\\3\\models\\40\\UNet_40_images_E006\n"
     ]
    },
    {
     "name": "stderr",
     "output_type": "stream",
     "text": [
      "WARNING:absl:Found untraced functions such as _jit_compiled_convolution_op, _jit_compiled_convolution_op, _jit_compiled_convolution_op, _jit_compiled_convolution_op, _jit_compiled_convolution_op while saving (showing 5 of 23). These functions will not be directly callable after loading.\n"
     ]
    },
    {
     "name": "stdout",
     "output_type": "stream",
     "text": [
      "INFO:tensorflow:Assets written to: c:\\Users\\chisa\\Documents\\GitHub\\OrganoID_IIT\\SURE\\datasets\\handpicked\\3\\models\\40\\UNet_40_images_E006\\assets\n"
     ]
    },
    {
     "name": "stderr",
     "output_type": "stream",
     "text": [
      "INFO:tensorflow:Assets written to: c:\\Users\\chisa\\Documents\\GitHub\\OrganoID_IIT\\SURE\\datasets\\handpicked\\3\\models\\40\\UNet_40_images_E006\\assets\n"
     ]
    },
    {
     "name": "stdout",
     "output_type": "stream",
     "text": [
      "5/5 [==============================] - 5s 1s/step - loss: 1.3652 - val_loss: 1.3525\n",
      "Epoch 7/10\n",
      "5/5 [==============================] - ETA: 0s - loss: 1.2507\n",
      "Epoch 7: saving model to c:\\Users\\chisa\\Documents\\GitHub\\OrganoID_IIT\\SURE\\datasets\\handpicked\\3\\models\\40\\UNet_40_images_E007\n"
     ]
    },
    {
     "name": "stderr",
     "output_type": "stream",
     "text": [
      "WARNING:absl:Found untraced functions such as _jit_compiled_convolution_op, _jit_compiled_convolution_op, _jit_compiled_convolution_op, _jit_compiled_convolution_op, _jit_compiled_convolution_op while saving (showing 5 of 23). These functions will not be directly callable after loading.\n"
     ]
    },
    {
     "name": "stdout",
     "output_type": "stream",
     "text": [
      "INFO:tensorflow:Assets written to: c:\\Users\\chisa\\Documents\\GitHub\\OrganoID_IIT\\SURE\\datasets\\handpicked\\3\\models\\40\\UNet_40_images_E007\\assets\n"
     ]
    },
    {
     "name": "stderr",
     "output_type": "stream",
     "text": [
      "INFO:tensorflow:Assets written to: c:\\Users\\chisa\\Documents\\GitHub\\OrganoID_IIT\\SURE\\datasets\\handpicked\\3\\models\\40\\UNet_40_images_E007\\assets\n"
     ]
    },
    {
     "name": "stdout",
     "output_type": "stream",
     "text": [
      "5/5 [==============================] - 5s 1s/step - loss: 1.2507 - val_loss: 1.2592\n",
      "Epoch 8/10\n",
      "5/5 [==============================] - ETA: 0s - loss: 1.1534\n",
      "Epoch 8: saving model to c:\\Users\\chisa\\Documents\\GitHub\\OrganoID_IIT\\SURE\\datasets\\handpicked\\3\\models\\40\\UNet_40_images_E008\n"
     ]
    },
    {
     "name": "stderr",
     "output_type": "stream",
     "text": [
      "WARNING:absl:Found untraced functions such as _jit_compiled_convolution_op, _jit_compiled_convolution_op, _jit_compiled_convolution_op, _jit_compiled_convolution_op, _jit_compiled_convolution_op while saving (showing 5 of 23). These functions will not be directly callable after loading.\n"
     ]
    },
    {
     "name": "stdout",
     "output_type": "stream",
     "text": [
      "INFO:tensorflow:Assets written to: c:\\Users\\chisa\\Documents\\GitHub\\OrganoID_IIT\\SURE\\datasets\\handpicked\\3\\models\\40\\UNet_40_images_E008\\assets\n"
     ]
    },
    {
     "name": "stderr",
     "output_type": "stream",
     "text": [
      "INFO:tensorflow:Assets written to: c:\\Users\\chisa\\Documents\\GitHub\\OrganoID_IIT\\SURE\\datasets\\handpicked\\3\\models\\40\\UNet_40_images_E008\\assets\n"
     ]
    },
    {
     "name": "stdout",
     "output_type": "stream",
     "text": [
      "5/5 [==============================] - 5s 1s/step - loss: 1.1534 - val_loss: 1.1397\n",
      "Epoch 9/10\n",
      "5/5 [==============================] - ETA: 0s - loss: 1.0598\n",
      "Epoch 9: saving model to c:\\Users\\chisa\\Documents\\GitHub\\OrganoID_IIT\\SURE\\datasets\\handpicked\\3\\models\\40\\UNet_40_images_E009\n"
     ]
    },
    {
     "name": "stderr",
     "output_type": "stream",
     "text": [
      "WARNING:absl:Found untraced functions such as _jit_compiled_convolution_op, _jit_compiled_convolution_op, _jit_compiled_convolution_op, _jit_compiled_convolution_op, _jit_compiled_convolution_op while saving (showing 5 of 23). These functions will not be directly callable after loading.\n"
     ]
    },
    {
     "name": "stdout",
     "output_type": "stream",
     "text": [
      "INFO:tensorflow:Assets written to: c:\\Users\\chisa\\Documents\\GitHub\\OrganoID_IIT\\SURE\\datasets\\handpicked\\3\\models\\40\\UNet_40_images_E009\\assets\n"
     ]
    },
    {
     "name": "stderr",
     "output_type": "stream",
     "text": [
      "INFO:tensorflow:Assets written to: c:\\Users\\chisa\\Documents\\GitHub\\OrganoID_IIT\\SURE\\datasets\\handpicked\\3\\models\\40\\UNet_40_images_E009\\assets\n"
     ]
    },
    {
     "name": "stdout",
     "output_type": "stream",
     "text": [
      "5/5 [==============================] - 5s 1s/step - loss: 1.0598 - val_loss: 1.0898\n",
      "Epoch 10/10\n",
      "5/5 [==============================] - ETA: 0s - loss: 0.9845\n",
      "Epoch 10: saving model to c:\\Users\\chisa\\Documents\\GitHub\\OrganoID_IIT\\SURE\\datasets\\handpicked\\3\\models\\40\\UNet_40_images_E010\n"
     ]
    },
    {
     "name": "stderr",
     "output_type": "stream",
     "text": [
      "WARNING:absl:Found untraced functions such as _jit_compiled_convolution_op, _jit_compiled_convolution_op, _jit_compiled_convolution_op, _jit_compiled_convolution_op, _jit_compiled_convolution_op while saving (showing 5 of 23). These functions will not be directly callable after loading.\n"
     ]
    },
    {
     "name": "stdout",
     "output_type": "stream",
     "text": [
      "INFO:tensorflow:Assets written to: c:\\Users\\chisa\\Documents\\GitHub\\OrganoID_IIT\\SURE\\datasets\\handpicked\\3\\models\\40\\UNet_40_images_E010\\assets\n"
     ]
    },
    {
     "name": "stderr",
     "output_type": "stream",
     "text": [
      "INFO:tensorflow:Assets written to: c:\\Users\\chisa\\Documents\\GitHub\\OrganoID_IIT\\SURE\\datasets\\handpicked\\3\\models\\40\\UNet_40_images_E010\\assets\n"
     ]
    },
    {
     "name": "stdout",
     "output_type": "stream",
     "text": [
      "5/5 [==============================] - 5s 1s/step - loss: 0.9845 - val_loss: 1.0069\n"
     ]
    },
    {
     "name": "stderr",
     "output_type": "stream",
     "text": [
      "WARNING:absl:Found untraced functions such as _jit_compiled_convolution_op, _jit_compiled_convolution_op, _jit_compiled_convolution_op, _jit_compiled_convolution_op, _jit_compiled_convolution_op while saving (showing 5 of 23). These functions will not be directly callable after loading.\n"
     ]
    },
    {
     "name": "stdout",
     "output_type": "stream",
     "text": [
      "INFO:tensorflow:Assets written to: SURE\\datasets\\handpicked\\3\\models\\40\\UNet_40_images_BEST\\assets\n"
     ]
    },
    {
     "name": "stderr",
     "output_type": "stream",
     "text": [
      "INFO:tensorflow:Assets written to: SURE\\datasets\\handpicked\\3\\models\\40\\UNet_40_images_BEST\\assets\n"
     ]
    },
    {
     "name": "stdout",
     "output_type": "stream",
     "text": [
      "Loading images...0/1/2/3/4/5/6/7/8/9/10/411/412/413/414/415/416/417/418/419/420/421/422/423/424/425/426/427/428/429/430/431/432/433/434/435/436/437/438/439/40 \n",
      "Done\n",
      "Running model...\n",
      "----------------------------------------------------------------------------------------------------\n",
      "2/2 [==============================] - 2s 89ms/step\n",
      "----------------------------------------------------------------------------------------------------\n",
      "Done.\n",
      "Loading images...0/1/2/3/4/5/6/7/8/9 \n",
      "Done\n",
      "Running model...\n",
      "----------------------------------------------------------------------------------------------------\n",
      "1/1 [==============================] - 1s 596ms/step\n",
      "----------------------------------------------------------------------------------------------------\n",
      "Done.\n",
      "Loading images...0/1/2/3/4/5/6/7/8/9 \n",
      "Done\n",
      "Running model...\n",
      "----------------------------------------------------------------------------------------------------\n",
      "1/1 [==============================] - 0s 24ms/step\n",
      "----------------------------------------------------------------------------------------------------\n",
      "Done.\n",
      "Training IoU: 0.3130\n",
      "Validation IoU: 0.3006\n",
      "Test IoU: 0.2921\n",
      "Finished training with 40 images\n",
      "\n",
      "Training complete for all image counts\n"
     ]
    }
   ],
   "source": [
    "for folder in folder_names[:2]:\n",
    "    print(f\"Training with {folder} images\")\n",
    "    \n",
    "    # Create the model\n",
    "    model = BuildModel(image_size, dropout_rate, first_layer_filter_count)\n",
    "    \n",
    "    training_ground_truths, validation_ground_truths, test_ground_truths = retrieve_ground_truths(folder)\n",
    "    \n",
    "    # Train the model\n",
    "    TrainModel(\n",
    "        model=model,\n",
    "        learningRate=learning_rate,\n",
    "        patience=patience,\n",
    "        epochs=epochs,\n",
    "        batchSize=batch_size,\n",
    "        trainingData=training_ground_truths,\n",
    "        validationData=validation_ground_truths,\n",
    "        saveDirectory=save_directory / str(folder.name),\n",
    "        saveNamePrefix=f\"{save_name_prefix}_{folder.name}_images\",\n",
    "        saveLite=save_lite,\n",
    "        saveAll=save_all\n",
    "    )\n",
    "    \n",
    "    # Compute IoU for training, validation, and test sets\n",
    "    train_iou = ComputeIOUs(model, LoadPILImages([gt.imagePath for gt in training_ground_truths]), LoadPILImages([gt.segmentationPath for gt in training_ground_truths]))\n",
    "    train_iou_mean = np.mean(train_iou)\n",
    "    train_iou_std = np.std(train_iou)\n",
    "    \n",
    "    val_iou = ComputeIOUs(model, LoadPILImages([gt.imagePath for gt in validation_ground_truths]), LoadPILImages([gt.segmentationPath for gt in validation_ground_truths]))\n",
    "    val_iou_mean = np.mean(val_iou)\n",
    "    val_iou_std = np.std(val_iou)\n",
    "    \n",
    "    test_iou = ComputeIOUs(model, LoadPILImages([gt.imagePath for gt in test_ground_truths]), LoadPILImages([gt.segmentationPath for gt in test_ground_truths]))\n",
    "    test_iou_mean = np.mean(test_iou)\n",
    "    test_iou_std = np.std(test_iou)\n",
    "    \n",
    "    alldata.append({\n",
    "        \"image_count\": int(folder.name),\n",
    "        \"train_iou_mean\": train_iou_mean,\n",
    "        \"train_iou_std\": train_iou_std,\n",
    "        \n",
    "        \"val_iou_mean\": val_iou_mean,\n",
    "        \"val_iou_std\": val_iou_std,\n",
    "        \n",
    "        \"test_iou_mean\": test_iou_mean,\n",
    "        \"test_iou_std\": test_iou_std\n",
    "    })\n",
    "    \n",
    "    print(f\"Training IoU: {train_iou_mean:.4f}\")\n",
    "    print(f\"Validation IoU: {val_iou_mean:.4f}\")\n",
    "    print(f\"Test IoU: {test_iou_mean:.4f}\")\n",
    "    print(f\"Finished training with {folder.name} images\\n\")\n",
    "\n",
    "print(\"Training complete for all image counts\")"
   ]
  },
  {
   "cell_type": "code",
   "execution_count": 11,
   "metadata": {},
   "outputs": [
    {
     "data": {
      "text/html": [
       "<div>\n",
       "<style scoped>\n",
       "    .dataframe tbody tr th:only-of-type {\n",
       "        vertical-align: middle;\n",
       "    }\n",
       "\n",
       "    .dataframe tbody tr th {\n",
       "        vertical-align: top;\n",
       "    }\n",
       "\n",
       "    .dataframe thead th {\n",
       "        text-align: right;\n",
       "    }\n",
       "</style>\n",
       "<table border=\"1\" class=\"dataframe\">\n",
       "  <thead>\n",
       "    <tr style=\"text-align: right;\">\n",
       "      <th></th>\n",
       "      <th>image_count</th>\n",
       "      <th>train_iou_mean</th>\n",
       "      <th>train_iou_std</th>\n",
       "      <th>val_iou_mean</th>\n",
       "      <th>val_iou_std</th>\n",
       "      <th>test_iou_mean</th>\n",
       "      <th>test_iou_std</th>\n",
       "    </tr>\n",
       "  </thead>\n",
       "  <tbody>\n",
       "    <tr>\n",
       "      <th>0</th>\n",
       "      <td>20</td>\n",
       "      <td>0.218386</td>\n",
       "      <td>0.076906</td>\n",
       "      <td>0.266032</td>\n",
       "      <td>0.038506</td>\n",
       "      <td>0.175782</td>\n",
       "      <td>0.032881</td>\n",
       "    </tr>\n",
       "    <tr>\n",
       "      <th>1</th>\n",
       "      <td>40</td>\n",
       "      <td>0.312983</td>\n",
       "      <td>0.103932</td>\n",
       "      <td>0.300608</td>\n",
       "      <td>0.106498</td>\n",
       "      <td>0.292122</td>\n",
       "      <td>0.095971</td>\n",
       "    </tr>\n",
       "  </tbody>\n",
       "</table>\n",
       "</div>"
      ],
      "text/plain": [
       "   image_count  train_iou_mean  train_iou_std  val_iou_mean  val_iou_std  \\\n",
       "0           20        0.218386       0.076906      0.266032     0.038506   \n",
       "1           40        0.312983       0.103932      0.300608     0.106498   \n",
       "\n",
       "   test_iou_mean  test_iou_std  \n",
       "0       0.175782      0.032881  \n",
       "1       0.292122      0.095971  "
      ]
     },
     "execution_count": 11,
     "metadata": {},
     "output_type": "execute_result"
    }
   ],
   "source": [
    "df = pd.DataFrame(alldata)\n",
    "df"
   ]
  },
  {
   "cell_type": "code",
   "execution_count": 12,
   "metadata": {},
   "outputs": [
    {
     "data": {
      "image/png": "[encoded data removed]",
      "text/plain": [
       "<Figure size 1000x600 with 1 Axes>"
      ]
     },
     "metadata": {},
     "output_type": "display_data"
    }
   ],
   "source": [
    "df = pd.DataFrame(alldata)\n",
    "df.to_csv(\"iou_data.csv\")\n",
    "# Plotting the results\n",
    "plt.figure(figsize=(10, 6))\n",
    "plt.plot(df[\"image_count\"], df[\"train_iou_mean\"], 'b-', label='Training IoU')\n",
    "plt.plot(df[\"image_count\"], df[\"val_iou_mean\"], 'g-', label='Validation IoU')\n",
    "plt.plot(df[\"image_count\"], df[\"test_iou_std\"], 'r-', label='Test IoU')\n",
    "plt.xlabel('Number of Training Images')\n",
    "plt.ylabel('Mean IoU')\n",
    "plt.title('Model Performance vs. Number of Training Images')\n",
    "plt.legend()\n",
    "plt.grid(True)\n",
    "plt.savefig('iou_vs_training_images.png')\n",
    "plt.show()"
   ]
  }
 ],
 "metadata": {
  "kernelspec": {
   "display_name": "nomi3",
   "language": "python",
   "name": "python3"
  },
  "language_info": {
   "codemirror_mode": {
    "name": "ipython",
    "version": 3
   },
   "file_extension": ".py",
   "mimetype": "text/x-python",
   "name": "python",
   "nbconvert_exporter": "python",
   "pygments_lexer": "ipython3",
   "version": "3.10.12"
  }
 },
 "nbformat": 4,
 "nbformat_minor": 2
}
